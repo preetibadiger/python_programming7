{
 "cells": [
  {
   "cell_type": "code",
   "execution_count": null,
   "id": "3f950da7",
   "metadata": {},
   "outputs": [],
   "source": [
    "1. Write a Python Program to find sum of array?"
   ]
  },
  {
   "cell_type": "code",
   "execution_count": 7,
   "id": "7999af7f",
   "metadata": {},
   "outputs": [
    {
     "name": "stdout",
     "output_type": "stream",
     "text": [
      "Sum of the array is  36\n"
     ]
    }
   ],
   "source": [
    "arr = [1,2,3,4,5,6,7,8]\n",
    "ans = sum(arr)\n",
    "print ('Sum of the array is ',ans)"
   ]
  },
  {
   "cell_type": "code",
   "execution_count": null,
   "id": "c7a548b5",
   "metadata": {},
   "outputs": [],
   "source": [
    "2. Write a Python Program to find largest element in an array?"
   ]
  },
  {
   "cell_type": "code",
   "execution_count": 13,
   "id": "339e805c",
   "metadata": {},
   "outputs": [
    {
     "name": "stdout",
     "output_type": "stream",
     "text": [
      "Largest in given array  578\n"
     ]
    }
   ],
   "source": [
    "def largest(arr, n):\n",
    " \n",
    "    # Initialize maximum element\n",
    "    max = arr[0]\n",
    " \n",
    "    for i in range(1, n):\n",
    "        if arr[i] > max:\n",
    "            max = arr[i]\n",
    "    return max\n",
    "\n",
    "arr = [8, 578, 45, 90]\n",
    "n = len(arr)\n",
    "Ans = largest(arr, n)\n",
    "print(\"Largest in given array \", Ans)\n",
    " "
   ]
  },
  {
   "cell_type": "code",
   "execution_count": null,
   "id": "aa27532c",
   "metadata": {},
   "outputs": [],
   "source": [
    "3. Write a Python Program for array rotation?"
   ]
  },
  {
   "cell_type": "code",
   "execution_count": 17,
   "id": "77f40fb5",
   "metadata": {},
   "outputs": [
    {
     "name": "stdout",
     "output_type": "stream",
     "text": [
      "Enter number of elements of the array: 6\n",
      "Enter elements of the array :\n",
      "1\n",
      "2\n",
      "3\n",
      "4\n",
      "5\n",
      "6\n",
      "Enter rotation count: 3\n",
      "Initial Array : 1 2 3 4 5 6 \n",
      "Array after rotation:  4 5 1 2 3 3 "
     ]
    }
   ],
   "source": [
    "\n",
    "# Function to rotate arrays in Python\n",
    "def rotateArrayLeft(arr, R, n):\n",
    "    for i in range(R):\n",
    "        firstVal = arr[0]\n",
    "        for i in range(n-1):\n",
    "            arr[i] = arr[i+1]\n",
    "            arr[n-1] = firstVal\n",
    "\n",
    "# Taking array input from user\n",
    "arr = [1, 2, 3, 4, 5, 6, 7]\n",
    "n = int(input(\"Enter number of elements of the array: \"))\n",
    "arr = []\n",
    "print(\"Enter elements of the array :\")\n",
    "for i in range(n):\n",
    "  numbers = int(input())\n",
    "  arr.append(numbers)\n",
    "R = int(input(\"Enter rotation count: \"))\n",
    "\n",
    "# Printing array \n",
    "print(\"Initial Array :\", end = \" \")\n",
    "for i in range(n):\n",
    "    print (\"%d\"% arr[i],end=\" \")\n",
    "    \n",
    "# Calling function for left Rotating array \n",
    "rotateArrayLeft(arr, R, n)\n",
    "\n",
    "# Printing new array \n",
    "print(\"\\nArray after rotation: \", end = \" \")\n",
    "for i in range(n):\n",
    "    print (\"%d\"% arr[i],end=\" \")\n"
   ]
  },
  {
   "cell_type": "code",
   "execution_count": null,
   "id": "b64fb62e",
   "metadata": {},
   "outputs": [],
   "source": [
    "4. Write a Python Program to Split the array and add the first part to the end?"
   ]
  },
  {
   "cell_type": "code",
   "execution_count": 19,
   "id": "7632f191",
   "metadata": {},
   "outputs": [
    {
     "name": "stdout",
     "output_type": "stream",
     "text": [
      "5 6 52 36 12 10 "
     ]
    }
   ],
   "source": [
    "def splitArr(arr, n, k):  \n",
    "    for i in range(0, k):  \n",
    "        x = arr[0] \n",
    "        for j in range(0, n-1): \n",
    "            arr[j] = arr[j + 1] \n",
    "          \n",
    "        arr[n-1] = x \n",
    "          \n",
    "  # main \n",
    "arr = [12, 10, 5, 6, 52, 36] \n",
    "n = len(arr) \n",
    "position = 2\n",
    "  \n",
    "splitArr(arr, n, position) \n",
    "  \n",
    "for i in range(0, n):  \n",
    "    print(arr[i], end = ' ') \n",
    "  "
   ]
  },
  {
   "cell_type": "code",
   "execution_count": null,
   "id": "98f74e0e",
   "metadata": {},
   "outputs": [],
   "source": [
    "5. Write a Python Program to check if given array is Monotonic?"
   ]
  },
  {
   "cell_type": "code",
   "execution_count": 2,
   "id": "0da24a1b",
   "metadata": {},
   "outputs": [
    {
     "name": "stdout",
     "output_type": "stream",
     "text": [
      "True\n"
     ]
    }
   ],
   "source": [
    "def isMonotonic(A):\n",
    "   return (all(A[i] <= A[i + 1] for i in range(len(A) - 1)) or\n",
    "      all(A[i] >= A[i + 1] for i in range(len(A) - 1)))\n",
    "# main\n",
    "A = [1,2,3,4,7,8]\n",
    "print(isMonotonic(A))"
   ]
  },
  {
   "cell_type": "code",
   "execution_count": null,
   "id": "1427c68c",
   "metadata": {},
   "outputs": [],
   "source": []
  }
 ],
 "metadata": {
  "kernelspec": {
   "display_name": "Python 3 (ipykernel)",
   "language": "python",
   "name": "python3"
  },
  "language_info": {
   "codemirror_mode": {
    "name": "ipython",
    "version": 3
   },
   "file_extension": ".py",
   "mimetype": "text/x-python",
   "name": "python",
   "nbconvert_exporter": "python",
   "pygments_lexer": "ipython3",
   "version": "3.9.7"
  }
 },
 "nbformat": 4,
 "nbformat_minor": 5
}
